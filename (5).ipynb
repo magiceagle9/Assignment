{
  "nbformat": 4,
  "nbformat_minor": 0,
  "metadata": {
    "colab": {
      "name": "(5).ipynb",
      "provenance": [],
      "authorship_tag": "ABX9TyNY+d3sDg7NW1npXyTah+C/",
      "include_colab_link": true
    },
    "kernelspec": {
      "name": "python3",
      "display_name": "Python 3"
    }
  },
  "cells": [
    {
      "cell_type": "markdown",
      "metadata": {
        "id": "view-in-github",
        "colab_type": "text"
      },
      "source": [
        "<a href=\"https://colab.research.google.com/github/magiceagle9/Assignment/blob/main/(5).ipynb\" target=\"_parent\"><img src=\"https://colab.research.google.com/assets/colab-badge.svg\" alt=\"Open In Colab\"/></a>"
      ]
    },
    {
      "cell_type": "code",
      "metadata": {
        "id": "sswbFnqbGNCF",
        "colab": {
          "base_uri": "https://localhost:8080/"
        },
        "outputId": "f2fbe103-b198-4992-9692-740f3d838847"
      },
      "source": [
        "#Name - Ashwini Raghu\n",
        "#Roll number - 11\n",
        "#(36 37 -46 -23 1 -36) is my randomnly selected list of numbers\n",
        "# Inputing list\n",
        "\n",
        "randomlist=(36, 37, -46, -23, 1, -36,)\n",
        "x=[]\n",
        "y=[]\n",
        "for number in randomlist:\n",
        "  if number<0:\n",
        "    x.append(number)\n",
        "  else:\n",
        "    y.append(number)\n",
        "\n",
        "print(x)\n",
        "print(sum(x))\n",
        "print(\"The sum of all negative integers is : \", sum(x))\n",
        "print(y)\n",
        "print(sum(y))\n",
        "print(\"The sum of all positive integers is : \", sum(y))\n",
        "print(sum(randomlist))\n",
        "print(\"The sum of all integers in my random set is : \", sum(randomlist))\n",
        "\n"
      ],
      "execution_count": 2,
      "outputs": [
        {
          "output_type": "stream",
          "text": [
            "[-46, -23, -36]\n",
            "-105\n",
            "The sum of all negative integers is :  -105\n",
            "[36, 37, 1]\n",
            "74\n",
            "The sum of all positive integers is :  74\n",
            "-31\n",
            "The sum of all integers in my random set is :  -31\n"
          ],
          "name": "stdout"
        }
      ]
    }
  ]
}