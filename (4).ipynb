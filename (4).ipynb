{
  "nbformat": 4,
  "nbformat_minor": 0,
  "metadata": {
    "colab": {
      "name": "(4).ipynb",
      "provenance": [],
      "authorship_tag": "ABX9TyMy5EhnTMeAV0jlu8t3Exiy",
      "include_colab_link": true
    },
    "kernelspec": {
      "name": "python3",
      "display_name": "Python 3"
    }
  },
  "cells": [
    {
      "cell_type": "markdown",
      "metadata": {
        "id": "view-in-github",
        "colab_type": "text"
      },
      "source": [
        "<a href=\"https://colab.research.google.com/github/magiceagle9/Assignment/blob/main/(4).ipynb\" target=\"_parent\"><img src=\"https://colab.research.google.com/assets/colab-badge.svg\" alt=\"Open In Colab\"/></a>"
      ]
    },
    {
      "cell_type": "code",
      "metadata": {
        "colab": {
          "base_uri": "https://localhost:8080/"
        },
        "id": "k8tQnAoK0sqc",
        "outputId": "90459f7d-ce13-41a0-eba0-815d2ee861a8"
      },
      "source": [
        "#Name - Ashwini Raghu\n",
        "#Roll number - 11\n",
        "#19011 is not a leap year\n",
        "#Inputing my year\n",
        "\n",
        "\n",
        "year = int(input(\"Enter Year: \"))\n",
        "\n",
        "# Checking leap year\n",
        "if year % 4 == 0 and year % 100 != 0:\n",
        "    print(year, \"is a Leap Year\")\n",
        "elif year % 100 == 0:\n",
        "    print(year, \"is not a Leap Year\")\n",
        "elif year % 400 ==0:\n",
        "    print(year, \"is a Leap Year\")\n",
        "else:\n",
        "    print(year, \"is not a Leap Year\")"
      ],
      "execution_count": 1,
      "outputs": [
        {
          "output_type": "stream",
          "text": [
            "Enter Year: 19011\n",
            "19011 is not a Leap Year\n"
          ],
          "name": "stdout"
        }
      ]
    }
  ]
}