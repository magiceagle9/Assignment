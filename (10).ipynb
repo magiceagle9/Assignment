{
  "nbformat": 4,
  "nbformat_minor": 0,
  "metadata": {
    "colab": {
      "name": "(10).ipynb",
      "provenance": [],
      "authorship_tag": "ABX9TyPafu9iL92FlMBaxgn+4m8v",
      "include_colab_link": true
    },
    "kernelspec": {
      "name": "python3",
      "display_name": "Python 3"
    }
  },
  "cells": [
    {
      "cell_type": "markdown",
      "metadata": {
        "id": "view-in-github",
        "colab_type": "text"
      },
      "source": [
        "<a href=\"https://colab.research.google.com/github/magiceagle9/Assignment/blob/main/(10).ipynb\" target=\"_parent\"><img src=\"https://colab.research.google.com/assets/colab-badge.svg\" alt=\"Open In Colab\"/></a>"
      ]
    },
    {
      "cell_type": "code",
      "metadata": {
        "colab": {
          "base_uri": "https://localhost:8080/"
        },
        "id": "XdCsa_vMRpC7",
        "outputId": "15faecf4-0cc7-4537-d5b3-b46d62f9aab3"
      },
      "source": [
        "#Name - Ashwini Raghu\n",
        "#Roll number - 11 \n",
        "#19011x16=304176\n",
        "\n",
        "#Inputing my number\n",
        "x=int(input(\"Enter the number=\"))\n",
        "def cout(x):\n",
        "    if x==0:\n",
        "        return 0\n",
        "    else:\n",
        "        return 1+cout(x//10)\n",
        "print(\"Number of digits=\",cout(x))\n"
      ],
      "execution_count": 4,
      "outputs": [
        {
          "output_type": "stream",
          "text": [
            "Enter the number=304176\n",
            "Number of digits= 6\n"
          ],
          "name": "stdout"
        }
      ]
    }
  ]
}