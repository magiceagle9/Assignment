{
  "nbformat": 4,
  "nbformat_minor": 0,
  "metadata": {
    "colab": {
      "name": "(2).ipynb",
      "provenance": [],
      "authorship_tag": "ABX9TyP7aNoThrlxmt1QOCJ3Wdsk",
      "include_colab_link": true
    },
    "kernelspec": {
      "name": "python3",
      "display_name": "Python 3"
    }
  },
  "cells": [
    {
      "cell_type": "markdown",
      "metadata": {
        "id": "view-in-github",
        "colab_type": "text"
      },
      "source": [
        "<a href=\"https://colab.research.google.com/github/magiceagle9/Assignment/blob/main/(2).ipynb\" target=\"_parent\"><img src=\"https://colab.research.google.com/assets/colab-badge.svg\" alt=\"Open In Colab\"/></a>"
      ]
    },
    {
      "cell_type": "code",
      "metadata": {
        "colab": {
          "base_uri": "https://localhost:8080/"
        },
        "id": "GyPkoj_xmUbi",
        "outputId": "2e271bcf-af1a-48a0-c4c9-9a4f2f4646b0"
      },
      "source": [
        "#Name-Ashwini Raghu\n",
        "#Roll number -11\n",
        "#Last two digits of KTU id is 11\n",
        "\n",
        "#input number\n",
        "n=int(input(\"Enter your desired number : \"))\n",
        "#conditions\n",
        "if n<0:\n",
        "\tprint(\"NO OUTPUT!\")\n",
        "elif n==0:\n",
        "\tprint(\"STILL NO OUTPUT!\")\n",
        "else :\n",
        "  result=(2**(2*n))+n+5\n",
        "  #printing my result\n",
        "  print(\"Required answer is : \",result)"
      ],
      "execution_count": 1,
      "outputs": [
        {
          "output_type": "stream",
          "text": [
            "Enter your desired number : 11\n",
            "Required answer is :  4194320\n"
          ],
          "name": "stdout"
        }
      ]
    }
  ]
}