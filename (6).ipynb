{
  "nbformat": 4,
  "nbformat_minor": 0,
  "metadata": {
    "colab": {
      "name": "(6).ipynb",
      "provenance": [],
      "authorship_tag": "ABX9TyMlzn6LUjROHOK1gaatcEmV",
      "include_colab_link": true
    },
    "kernelspec": {
      "name": "python3",
      "display_name": "Python 3"
    }
  },
  "cells": [
    {
      "cell_type": "markdown",
      "metadata": {
        "id": "view-in-github",
        "colab_type": "text"
      },
      "source": [
        "<a href=\"https://colab.research.google.com/github/magiceagle9/Assignment/blob/main/(6).ipynb\" target=\"_parent\"><img src=\"https://colab.research.google.com/assets/colab-badge.svg\" alt=\"Open In Colab\"/></a>"
      ]
    },
    {
      "cell_type": "code",
      "metadata": {
        "colab": {
          "base_uri": "https://localhost:8080/"
        },
        "id": "9sKKZqbkM3rS",
        "outputId": "90efd653-d86e-4f93-f215-cb14d4408b78"
      },
      "source": [
        "#Name -Ashwini Raghu\n",
        "#Roll number - 11\n",
        "#My Desired string is - \n",
        "#like a hog or dog in the manger he doth only keep it becauseit shall do nbody else good hurting himself and others.srehto dna flesmih gnitruh doog esle ydobn od llahs tiesuaceb ti peek ylno htod eh regnam eht ni god ro goh a ekil\n",
        "#Inputing my desired string\n",
        "Mystr=input(\"Enter your string \")\n",
        "\n",
        "#Checking using splicing\n",
        "if Mystr==Mystr[::-1]:\n",
        "    print(\"This word is palindrome\")\n",
        "else:\n",
        "    print(\"This word is not palindrome\")"
      ],
      "execution_count": 13,
      "outputs": [
        {
          "output_type": "stream",
          "text": [
            "Enter your string like a hog or dog in the manger he doth only keep it becauseit shall do nbody else good hurting himself and others.srehto dna flesmih gnitruh doog esle ydobn od llahs tiesuaceb ti peek ylno htod eh regnam eht ni god ro goh a ekil\n",
            "This word is palindrome\n"
          ],
          "name": "stdout"
        }
      ]
    }
  ]
}