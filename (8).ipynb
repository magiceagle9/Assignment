{
  "nbformat": 4,
  "nbformat_minor": 0,
  "metadata": {
    "colab": {
      "name": "(8).ipynb",
      "provenance": [],
      "authorship_tag": "ABX9TyOtu6xt7yJgmju7uqUH68CS",
      "include_colab_link": true
    },
    "kernelspec": {
      "name": "python3",
      "display_name": "Python 3"
    }
  },
  "cells": [
    {
      "cell_type": "markdown",
      "metadata": {
        "id": "view-in-github",
        "colab_type": "text"
      },
      "source": [
        "<a href=\"https://colab.research.google.com/github/magiceagle9/Assignment/blob/main/(8).ipynb\" target=\"_parent\"><img src=\"https://colab.research.google.com/assets/colab-badge.svg\" alt=\"Open In Colab\"/></a>"
      ]
    },
    {
      "cell_type": "code",
      "metadata": {
        "colab": {
          "base_uri": "https://localhost:8080/"
        },
        "id": "JvdTVV5aANIt",
        "outputId": "8a08ca12-ae1d-4173-e8ca-706b41b4b2cb"
      },
      "source": [
        "#Name - Ashwini Raghu\n",
        "#Roll number - 11\n",
        "\n",
        "#Inputing the decimal number \n",
        "decimal = int(input(\"Enter a decimal number=\"))\n",
        "c=decimal\n",
        "octal = 0\n",
        "i = 0\n",
        "temp = decimal\n",
        "hex= [0, 1, 2, 3, 4, 5, 6, 7, 8, 9, 'a', 'b', 'c', 'd', 'e', 'f']\n",
        "reverse = \"\"\n",
        "\n",
        "#Checking for condition\n",
        "while(temp > 0):\n",
        "    octal =octal+((temp%8)*(10**i))  \n",
        "    temp = int(temp/8)          \n",
        "    i=i+ 1\n",
        "while decimal > 0:\n",
        "    remainder = decimal % 16\n",
        "    decimal =decimal- remainder\n",
        "    decimal =decimal// 16\n",
        "    reverse =reverse+ str(hex[remainder])\n",
        "\n",
        "#Printing my result\n",
        "print(\"The Hexadecimal of\",c,\"is\",reverse[::-1])      \n",
        "print(\"The Octal of \",c,\" is \",octal)\n"
      ],
      "execution_count": 3,
      "outputs": [
        {
          "output_type": "stream",
          "text": [
            "Enter a decimal number=435\n",
            "The Hexadecimal of 435 is 1b3\n",
            "The Octal of  435  is  663\n"
          ],
          "name": "stdout"
        }
      ]
    }
  ]
}