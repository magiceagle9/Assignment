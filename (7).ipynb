{
  "nbformat": 4,
  "nbformat_minor": 0,
  "metadata": {
    "colab": {
      "name": "(7).ipynb",
      "provenance": [],
      "authorship_tag": "ABX9TyMjZ6CCEW2Yel1EHeMgF3I9",
      "include_colab_link": true
    },
    "kernelspec": {
      "name": "python3",
      "display_name": "Python 3"
    }
  },
  "cells": [
    {
      "cell_type": "markdown",
      "metadata": {
        "id": "view-in-github",
        "colab_type": "text"
      },
      "source": [
        "<a href=\"https://colab.research.google.com/github/magiceagle9/Assignment/blob/main/(7).ipynb\" target=\"_parent\"><img src=\"https://colab.research.google.com/assets/colab-badge.svg\" alt=\"Open In Colab\"/></a>"
      ]
    },
    {
      "cell_type": "code",
      "metadata": {
        "colab": {
          "base_uri": "https://localhost:8080/"
        },
        "id": "YghBvAh284OQ",
        "outputId": "ff78471e-a0f1-4868-c2c9-03b8872e7b7e"
      },
      "source": [
        "\n",
        "\n",
        "# Name - Ashwini Raghu\n",
        "# Roll number -11\n",
        "#My password is WaVN@#9u\n",
        "\n",
        "#Inputing my passord\n",
        "pass_word =input(\"Enter the Password = \")\n",
        "for i in pass_word:\n",
        "    if i==\"0\" or i==\"1\" or i==\"2\" or i==\"3\" or i==\"4\" or i==\"5\" or i==\"6\" or i==\"7\" or i==\"8\" or i==\"9\":\n",
        "        flag=1\n",
        "        break\n",
        "    else:\n",
        "        flag=0\n",
        "if flag==1:\n",
        "    flag=3\n",
        "else:\n",
        "    print(\"The Password doesn't contain any digits\")\n",
        "if((s>='a' and s<= 'z') or (s>='A' and s<='Z')):\n",
        "    flag=4\n",
        "else:\n",
        "    print(\"The Password doesn't contain any Alphabets\")\n",
        "a=len(s)\n",
        "if a>=int(8):\n",
        "    flag=5\n",
        "else:\n",
        "    print(\"The Length of the password is not Sufficient\")\n",
        "c=len(s)\n",
        "for i in range(0,c):\n",
        "    if s[0].isupper():\n",
        "        flag=6\n",
        "       \n",
        "        break\n",
        "for i in s:\n",
        "    if i=='@' or i=='#' or i=='$':\n",
        "        flag=2\n",
        "        break\n",
        "    else:\n",
        "        flag=8\n",
        "if flag==2:\n",
        "    flag=7\n",
        "   \n",
        "else:\n",
        "    print(\"The Password doesn't contain any Special Character\")\n",
        "   \n",
        "if flag==1 or flag==3 or flag==4 or flag==5 or flag==6 or flag==7:\n",
        "    print(\"The Password is Valid\")\n"
      ],
      "execution_count": 4,
      "outputs": [
        {
          "output_type": "stream",
          "text": [
            "Enter the String= WaVN@#9u\n",
            "The Password is Valid\n"
          ],
          "name": "stdout"
        }
      ]
    }
  ]
}