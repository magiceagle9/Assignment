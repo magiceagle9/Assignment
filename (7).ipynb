{
  "nbformat": 4,
  "nbformat_minor": 0,
  "metadata": {
    "colab": {
      "name": "(7).ipynb",
      "provenance": [],
      "authorship_tag": "ABX9TyP8nbQ6wAzuh88SghPuhQiM",
      "include_colab_link": true
    },
    "kernelspec": {
      "name": "python3",
      "display_name": "Python 3"
    }
  },
  "cells": [
    {
      "cell_type": "markdown",
      "metadata": {
        "id": "view-in-github",
        "colab_type": "text"
      },
      "source": [
        "<a href=\"https://colab.research.google.com/github/magiceagle9/Assignment/blob/main/(7).ipynb\" target=\"_parent\"><img src=\"https://colab.research.google.com/assets/colab-badge.svg\" alt=\"Open In Colab\"/></a>"
      ]
    },
    {
      "cell_type": "code",
      "metadata": {
        "colab": {
          "base_uri": "https://localhost:8080/"
        },
        "id": "YghBvAh284OQ",
        "outputId": "4436621d-2f5d-49ff-bd1f-b17008387d06"
      },
      "source": [
        "\n",
        "\n",
        "# Name - Ashwini Raghu\n",
        "# Roll number -11\n",
        "#My password is WaVN!\"9u\n",
        "\n",
        "#Inputing my passord\n",
        "pass_word =input(\"Enter the Password = \")\n",
        "for i in pass_word:\n",
        "    if i==\"0\" or i==\"1\" or i==\"2\" or i==\"3\" or i==\"4\" or i==\"5\" or i==\"6\" or i==\"7\" or i==\"8\" or i==\"9\":\n",
        "        flag=1\n",
        "        break\n",
        "    else:\n",
        "        flag=0\n",
        "if flag==1:\n",
        "    flag=3\n",
        "else:\n",
        "    print(\"The Password doesn't contain any digits\")\n",
        "if((pass_word>='a' and pass_word<= 'z') or (pass_word>='A' and pass_word<='Z')):\n",
        "    flag=4\n",
        "else:\n",
        "    print(\"The Password doesn't contain any Alphabets\")\n",
        "a=len(pass_word)\n",
        "if a>=int(8):\n",
        "    flag=5\n",
        "else:\n",
        "    print(\"The Length of the password is not Sufficient\")\n",
        "c=len(pass_word)\n",
        "       \n",
        "for i in pass_word:\n",
        "    if i=='@' or i=='#' or i=='$':\n",
        "        flag=2\n",
        "        break\n",
        "    else:\n",
        "        flag=8\n",
        "if flag==2:\n",
        "    flag=7\n",
        "   \n",
        "else:\n",
        "    print(\"The Password doesn't contain any Special Character\")\n",
        "   \n",
        "if flag==1 or flag==3 or flag==4 or flag==5 or flag==7:\n",
        "    print(\"The Password is Valid\")\n"
      ],
      "execution_count": 8,
      "outputs": [
        {
          "output_type": "stream",
          "text": [
            "Enter the Password = WaVN!\"9u\n",
            "The Password doesn't contain any Special Character\n"
          ],
          "name": "stdout"
        }
      ]
    }
  ]
}