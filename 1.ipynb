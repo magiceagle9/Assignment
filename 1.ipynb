{
  "nbformat": 4,
  "nbformat_minor": 0,
  "metadata": {
    "colab": {
      "name": "1.ipynb",
      "provenance": [],
      "authorship_tag": "ABX9TyM7/nJuyA/lo3O61/pk031u",
      "include_colab_link": true
    },
    "kernelspec": {
      "name": "python3",
      "display_name": "Python 3"
    }
  },
  "cells": [
    {
      "cell_type": "markdown",
      "metadata": {
        "id": "view-in-github",
        "colab_type": "text"
      },
      "source": [
        "<a href=\"https://colab.research.google.com/github/magiceagle9/Assignment/blob/main/1.ipynb\" target=\"_parent\"><img src=\"https://colab.research.google.com/assets/colab-badge.svg\" alt=\"Open In Colab\"/></a>"
      ]
    },
    {
      "cell_type": "code",
      "metadata": {
        "id": "ZqmWrw2oKuaH",
        "outputId": "639ac00c-f25b-4a5c-bd99-dd2cb2135ea2",
        "colab": {
          "base_uri": "https://localhost:8080/"
        }
      },
      "source": [
        "#My Name is AshwiniRaghu. My roll number is 11\n",
        "#Reversing my KTU number\n",
        "ktuno = int(input(\"Enter the number you wish to reverse  : \"))\n",
        "newno = 0\n",
        "tot=0\n",
        "\n",
        "while(ktuno>0):\n",
        "\trem=ktuno%10\n",
        "\tnewno=(newno*10)+rem\n",
        "\t#rounding to nearest whole number\n",
        "\tktuno=ktuno//10\n",
        "\ttot=tot+rem\n",
        "#printing my result\n",
        "print(\"Hence, the reverse of my ktu number is : \" ,newno)\n",
        "\n",
        "#sum of all digits of my ktu number\n",
        "#printing my result\n",
        "print(\"Therfore, The sum of all digits of my ktu number is  \",tot)"
      ],
      "execution_count": null,
      "outputs": [
        {
          "output_type": "stream",
          "text": [
            "Enter the number you wish to reverse  : 19011\n",
            "Hence, the reverse of my ktu number is :  11091\n",
            "Therfore, The sum of all digits of my ktu number is   12\n"
          ],
          "name": "stdout"
        }
      ]
    }
  ]
}