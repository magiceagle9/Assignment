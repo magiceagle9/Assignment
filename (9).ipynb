{
  "nbformat": 4,
  "nbformat_minor": 0,
  "metadata": {
    "colab": {
      "name": "(9).ipynb",
      "provenance": [],
      "authorship_tag": "ABX9TyOG9qJW19yDhRB4wrYrDxGE",
      "include_colab_link": true
    },
    "kernelspec": {
      "name": "python3",
      "display_name": "Python 3"
    }
  },
  "cells": [
    {
      "cell_type": "markdown",
      "metadata": {
        "id": "view-in-github",
        "colab_type": "text"
      },
      "source": [
        "<a href=\"https://colab.research.google.com/github/magiceagle9/Assignment/blob/main/(9).ipynb\" target=\"_parent\"><img src=\"https://colab.research.google.com/assets/colab-badge.svg\" alt=\"Open In Colab\"/></a>"
      ]
    },
    {
      "cell_type": "code",
      "metadata": {
        "colab": {
          "base_uri": "https://localhost:8080/"
        },
        "id": "PiJpzOFPM5jx",
        "outputId": "4e84f171-3bb5-4ba9-dc5d-59b733017986"
      },
      "source": [
        "#name - Ashwini Raghu\n",
        "#Roll number - 11\n",
        "#Inputing vlues\n",
        "a=int(input(\"Enter the limit=\"))\n",
        "A=[]\n",
        "for i in range(a):\n",
        "    s=int(input(\"Enter The Number=\",))\n",
        "    A.append(s)\n",
        "for i in range(a):\n",
        "    if A[i]%2==0:\n",
        "        square = lambda A: A*A\n",
        "#Printing my result\n",
        "\n",
        "        print(\"The square of(\",A[i],\")=\",square(A[i]))\n"
      ],
      "execution_count": 3,
      "outputs": [
        {
          "output_type": "stream",
          "text": [
            "Enter the limit=5\n",
            "Enter The Number=45\n",
            "Enter The Number=66\n",
            "Enter The Number=54\n",
            "Enter The Number=2\n",
            "Enter The Number=8\n",
            "The square of( 66 )= 4356\n",
            "The square of( 54 )= 2916\n",
            "The square of( 2 )= 4\n",
            "The square of( 8 )= 64\n"
          ],
          "name": "stdout"
        }
      ]
    }
  ]
}